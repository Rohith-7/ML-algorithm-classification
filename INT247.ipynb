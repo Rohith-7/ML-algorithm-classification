{
  "cells": [
    {
      "cell_type": "code",
      "source": [
        "!pip install ipython-autotime\n",
        "%load_ext autotime"
      ],
      "metadata": {
        "id": "jrAzQnW8zB-Q"
      },
      "execution_count": null,
      "outputs": []
    },
    {
      "cell_type": "code",
      "execution_count": null,
      "metadata": {
        "id": "3HwL2IAYK59S"
      },
      "outputs": [],
      "source": [
        "import pandas as pd\n",
        "import numpy as np"
      ]
    },
    {
      "cell_type": "code",
      "execution_count": null,
      "metadata": {
        "id": "aIXH0lvKLNkJ"
      },
      "outputs": [],
      "source": [
        "df=pd.read_csv('/content/drive/MyDrive/INT247/Melbourne_housing_FULL (2).csv')"
      ]
    },
    {
      "cell_type": "code",
      "execution_count": null,
      "metadata": {
        "id": "_yAOjqzfLVcH"
      },
      "outputs": [],
      "source": [
        "df.head()"
      ]
    },
    {
      "cell_type": "code",
      "source": [
        "df.shape"
      ],
      "metadata": {
        "id": "T0h67JFta0BH"
      },
      "execution_count": null,
      "outputs": []
    },
    {
      "cell_type": "code",
      "source": [
        "df.info()"
      ],
      "metadata": {
        "id": "yZ1ROVYHa01e"
      },
      "execution_count": null,
      "outputs": []
    },
    {
      "cell_type": "code",
      "source": [
        "df.select_dtypes(['object']).columns\n"
      ],
      "metadata": {
        "id": "QOkquxs0bBML"
      },
      "execution_count": null,
      "outputs": []
    },
    {
      "cell_type": "code",
      "source": [
        "obj_cats = ['Suburb', 'Address', 'Type', 'Method', 'SellerG', 'CouncilArea','Regionname']\n",
        "\n",
        "for colname in obj_cats:\n",
        "    df[colname] = df[colname].astype('category')  "
      ],
      "metadata": {
        "id": "IAxkK4eAbObA"
      },
      "execution_count": null,
      "outputs": []
    },
    {
      "cell_type": "code",
      "source": [
        "df['Date'] = pd.to_datetime(df['Date'])"
      ],
      "metadata": {
        "id": "7Z69GIyBbWPX"
      },
      "execution_count": null,
      "outputs": []
    },
    {
      "cell_type": "code",
      "source": [
        "df.describe().transpose()\n"
      ],
      "metadata": {
        "id": "tf5kHkwAbhmZ"
      },
      "execution_count": null,
      "outputs": []
    },
    {
      "cell_type": "code",
      "source": [
        "num_cats = ['Postcode']  # Convert numeric variables to categorical\n",
        "\n",
        "for colname in num_cats:\n",
        "    df[colname] = df[colname].astype('category')   \n",
        "\n",
        "\n",
        "df.info()"
      ],
      "metadata": {
        "id": "G7mi6XNUbo-Z"
      },
      "execution_count": null,
      "outputs": []
    },
    {
      "cell_type": "code",
      "source": [
        "df['Rooms v Bedroom2'] = df['Rooms'] - df['Bedroom2']\n"
      ],
      "metadata": {
        "id": "KB6nQLSIb1P-"
      },
      "execution_count": null,
      "outputs": []
    },
    {
      "cell_type": "code",
      "source": [
        "df"
      ],
      "metadata": {
        "id": "cGRzhr8YcGdW"
      },
      "execution_count": null,
      "outputs": []
    },
    {
      "cell_type": "code",
      "source": [
        "df= df.drop(['Bedroom2','Rooms v Bedroom2'],1)\n"
      ],
      "metadata": {
        "id": "7AuQNd59cI87"
      },
      "execution_count": null,
      "outputs": []
    },
    {
      "cell_type": "code",
      "source": [
        "# Add age variable\n",
        "df['Age'] = 2017 - df['YearBuilt']\n",
        "\n",
        "# Identify historic homes\n",
        "df['Historic'] = np.where(df['Age']>=50,'Historic','Contemporary')\n",
        "\n",
        "# Convert to Category\n",
        "df['Historic'] = df['Historic'].astype('category')"
      ],
      "metadata": {
        "id": "X1ltTLmEcQ1G"
      },
      "execution_count": null,
      "outputs": []
    },
    {
      "cell_type": "code",
      "source": [
        "df.info()"
      ],
      "metadata": {
        "id": "NA5PD7eiculm"
      },
      "execution_count": null,
      "outputs": []
    },
    {
      "cell_type": "code",
      "source": [
        "df.isnull().sum()\n"
      ],
      "metadata": {
        "id": "Plkuct1Ic4Mw"
      },
      "execution_count": null,
      "outputs": []
    },
    {
      "cell_type": "code",
      "source": [
        "df.isnull().sum()/len(df)*100"
      ],
      "metadata": {
        "id": "2dJ3pj3qc94p"
      },
      "execution_count": null,
      "outputs": []
    },
    {
      "cell_type": "code",
      "source": [
        "df = df.dropna()"
      ],
      "metadata": {
        "id": "ujOyF9QPdFin"
      },
      "execution_count": null,
      "outputs": []
    },
    {
      "cell_type": "code",
      "source": [
        "df.info()\n"
      ],
      "metadata": {
        "id": "W6sDlBW4dTN0"
      },
      "execution_count": null,
      "outputs": []
    },
    {
      "cell_type": "code",
      "source": [
        "df.isnull().sum()"
      ],
      "metadata": {
        "id": "v1r5hrB8dWi0"
      },
      "execution_count": null,
      "outputs": []
    },
    {
      "cell_type": "code",
      "source": [
        " # EDA"
      ],
      "metadata": {
        "id": "z8EKQunSeaNF"
      },
      "execution_count": null,
      "outputs": []
    },
    {
      "cell_type": "code",
      "source": [
        "import seaborn as sns\n",
        "import sklearn \n",
        "import matplotlib.pyplot as plt\n",
        "%matplotlib inline"
      ],
      "metadata": {
        "id": "l8mitURTew30"
      },
      "execution_count": null,
      "outputs": []
    },
    {
      "cell_type": "code",
      "source": [
        ""
      ],
      "metadata": {
        "id": "UFMC6WX_ewxq"
      },
      "execution_count": null,
      "outputs": []
    },
    {
      "cell_type": "code",
      "source": [
        "plt.figure(figsize=(16,7))\n",
        "sns.distplot(df['Price'], kde = False,hist_kws=dict(edgecolor=\"k\"))"
      ],
      "metadata": {
        "id": "It6bQquhda0A"
      },
      "execution_count": null,
      "outputs": []
    },
    {
      "cell_type": "code",
      "source": [
        "sns.set_style('darkgrid')\n",
        "f, axes = plt.subplots(2,2, figsize = (15,15))\n",
        "\n",
        "# Plot [0,0]\n",
        "sns.boxplot(data = df, x = 'Type', y = 'Price', ax = axes[0,0])\n",
        "axes[0,0].set_xlabel('Type')\n",
        "axes[0,0].set_ylabel('Price')\n",
        "axes[0,0].set_title('Type v Price')\n",
        "\n",
        "# Plot [0,1]\n",
        "sns.boxplot(x = 'Method', y = 'Price', data = df, ax = axes[0,1])\n",
        "axes[0,1].set_xlabel('Method')\n",
        "#axes[0,1].set_ylabel('Price')\n",
        "axes[0,1].set_title('Method v Price')\n",
        "\n",
        "# Plot [1,0]\n",
        "sns.boxplot(x = 'Regionname', y = 'Price', data = df, ax = axes[1,0])\n",
        "axes[1,0].set_xlabel('Regionname')\n",
        "#axes[1,0].set_ylabel('Price')\n",
        "axes[1,0].set_title('Region Name v Price')\n",
        "\n",
        "# Plot [1,1]\n",
        "sns.boxplot(x = 'Historic', y = 'Price', data = df, ax = axes[1,1])\n",
        "axes[1,1].set_xlabel('Historic')\n",
        "axes[1,1].set_ylabel('Price')\n",
        "axes[1,1].set_title('Historic v Price')\n",
        "\n",
        "plt.show()"
      ],
      "metadata": {
        "id": "iF67U_KJeqFY"
      },
      "execution_count": null,
      "outputs": []
    },
    {
      "cell_type": "code",
      "source": [
        "df.select_dtypes(['float64','int64']).columns\n"
      ],
      "metadata": {
        "id": "gqprfPALfQ2A"
      },
      "execution_count": null,
      "outputs": []
    },
    {
      "cell_type": "code",
      "source": [
        "sns.set_style('darkgrid')\n",
        "f, axes = plt.subplots(4,2, figsize = (20,30))\n",
        "\n",
        "# Plot [0,0]\n",
        "axes[0,0].scatter(x = 'Rooms', y = 'Price', data = df, edgecolor = 'b')\n",
        "axes[0,0].set_xlabel('Rooms')\n",
        "axes[0,0].set_ylabel('Price')\n",
        "axes[0,0].set_title('Rooms v Price')\n",
        "\n",
        "# Plot [0,1]\n",
        "axes[0,1].scatter(x = 'Distance', y = 'Price', data = df, edgecolor = 'b')\n",
        "axes[0,1].set_xlabel('Distance')\n",
        "# axes[0,1].set_ylabel('Price')\n",
        "axes[0,1].set_title('Distance v Price')\n",
        "\n",
        "# Plot [1,0]\n",
        "axes[1,0].scatter(x = 'Bathroom', y = 'Price', data = df, edgecolor = 'b')\n",
        "axes[1,0].set_xlabel('Bathroom')\n",
        "axes[1,0].set_ylabel('Price')\n",
        "axes[1,0].set_title('Bathroom v Price')\n",
        "\n",
        "# Plot [1,1]\n",
        "axes[1,1].scatter(x = 'Car', y = 'Price', data = df, edgecolor = 'b')\n",
        "axes[1,0].set_xlabel('Car')\n",
        "axes[1,1].set_ylabel('Price')\n",
        "axes[1,1].set_title('Car v Price')\n",
        "\n",
        "# Plot [2,0]\n",
        "axes[2,0].scatter(x = 'Landsize', y = 'Price', data = df, edgecolor = 'b')\n",
        "axes[2,0].set_xlabel('Landsize')\n",
        "axes[2,0].set_ylabel('Price')\n",
        "axes[2,0].set_title('Landsize v  Price')\n",
        "\n",
        "# Plot [2,1]\n",
        "axes[2,1].scatter(x = 'BuildingArea', y = 'Price', data = df, edgecolor = 'b')\n",
        "axes[2,1].set_xlabel('BuildingArea')\n",
        "axes[2,1].set_ylabel('BuildingArea')\n",
        "axes[2,1].set_title('BuildingArea v Price')\n",
        "\n",
        "axes[3,0].scatter(x = 'Age', y = 'Price', data = df, edgecolor = 'b')\n",
        "axes[3,0].set_xlabel('Age')\n",
        "axes[3,0].set_ylabel('Price')\n",
        "axes[3,0].set_ylabel('Age v Price')\n",
        "\n",
        "# Plot [3,1]\n",
        "axes[3,1].scatter(x = 'Propertycount', y = 'Price', data = df, edgecolor = 'b')\n",
        "axes[3,1].set_xlabel('Propertycount')\n",
        "#axes[3,1].set_ylabel('Price')\n",
        "axes[3,1].set_title('Property Count v Price')\n",
        "\n",
        "plt.show()"
      ],
      "metadata": {
        "id": "qOQm_l6Yfcf6"
      },
      "execution_count": null,
      "outputs": []
    },
    {
      "cell_type": "code",
      "source": [
        "plt.figure(figsize=(10,6))\n",
        "sns.heatmap(df.corr(),cmap = 'coolwarm',linewidth = 1,annot= True, annot_kws={\"size\": 9})\n",
        "plt.title('Variable Correlation')"
      ],
      "metadata": {
        "id": "_QTLJ93MfocF"
      },
      "execution_count": null,
      "outputs": []
    },
    {
      "cell_type": "code",
      "source": [
        "X =df[['Rooms', 'Distance', 'Bathroom', 'Car', 'Landsize', \n",
        "            'BuildingArea', 'Propertycount','Age']]\n",
        "\n",
        "# Create target variable\n",
        "y = df['Price']\n",
        "\n",
        "# Train, test, split\n",
        "from sklearn.model_selection import train_test_split\n",
        "X_train, X_test, y_train, y_test = train_test_split(X,y, test_size = .20, random_state= 0)"
      ],
      "metadata": {
        "id": "On5uFU5Rf9Wd"
      },
      "execution_count": null,
      "outputs": []
    },
    {
      "cell_type": "code",
      "source": [
        "X_train.describe()"
      ],
      "metadata": {
        "id": "k63nftDgHKlH"
      },
      "execution_count": null,
      "outputs": []
    },
    {
      "cell_type": "code",
      "source": [
        "from sklearn.preprocessing import StandardScaler\n",
        "sc=StandardScaler()"
      ],
      "metadata": {
        "id": "X0EeY5xDHzwh"
      },
      "execution_count": null,
      "outputs": []
    },
    {
      "cell_type": "code",
      "source": [
        "X_train_sc=sc.fit_transform(X_train)"
      ],
      "metadata": {
        "id": "2MeRBZ07IANo"
      },
      "execution_count": null,
      "outputs": []
    },
    {
      "cell_type": "code",
      "source": [
        "pd.DataFrame(X_train_sc).describe()"
      ],
      "metadata": {
        "id": "qECweig9IHzv"
      },
      "execution_count": null,
      "outputs": []
    },
    {
      "cell_type": "code",
      "source": [
        "from sklearn.linear_model import LinearRegression\n",
        "regressor = LinearRegression()\n",
        "regressor.fit(X_train_sc,y_train)"
      ],
      "metadata": {
        "id": "kGuK9ehqgIhB"
      },
      "execution_count": null,
      "outputs": []
    },
    {
      "cell_type": "code",
      "source": [
        "y_pred = regressor.predict(X_test)\n"
      ],
      "metadata": {
        "id": "vOpmJW8KhFPJ"
      },
      "execution_count": null,
      "outputs": []
    },
    {
      "cell_type": "code",
      "source": [
        "regressor.score(X_train_sc,y_train)"
      ],
      "metadata": {
        "id": "QBts1rxWQrkI"
      },
      "execution_count": null,
      "outputs": []
    },
    {
      "cell_type": "code",
      "source": [
        "regressor.score(X_test,y_test)"
      ],
      "metadata": {
        "id": "qxc8ZW49RnUO"
      },
      "execution_count": null,
      "outputs": []
    },
    {
      "cell_type": "code",
      "source": [
        ""
      ],
      "metadata": {
        "id": "fqSQ_8G1E3p4"
      },
      "execution_count": null,
      "outputs": []
    },
    {
      "cell_type": "code",
      "source": [
        "from sklearn import metrics\n",
        "print('MAE:',metrics.mean_absolute_error(y_test,y_pred))\n",
        "print('MSE:',metrics.mean_squared_error(y_test,y_pred))\n",
        "print('RMSE:',np.sqrt(metrics.mean_squared_error(y_test,y_pred)))\n",
        "print('R^2 =',metrics.explained_variance_score(y_test,y_pred))"
      ],
      "metadata": {
        "id": "jRGF5LyJSjpN"
      },
      "execution_count": null,
      "outputs": []
    },
    {
      "cell_type": "code",
      "source": [
        "from sklearn.linear_model import LogisticRegression\n",
        "lr=LogisticRegression()\n",
        "lr.fit(X_train_sc,y_train)"
      ],
      "metadata": {
        "id": "DeOtf6fWhgn3"
      },
      "execution_count": null,
      "outputs": []
    },
    {
      "cell_type": "code",
      "source": [
        "train_pred_lr=lr.predict(X_train_sc)\n",
        "test_pred_lr=lr.predict(X_test)"
      ],
      "metadata": {
        "id": "jQmBA9rxFSuX"
      },
      "execution_count": null,
      "outputs": []
    },
    {
      "cell_type": "code",
      "source": [
        "from sklearn.metrics import accuracy_score"
      ],
      "metadata": {
        "id": "5p5limsSFurp"
      },
      "execution_count": null,
      "outputs": []
    },
    {
      "cell_type": "code",
      "source": [
        "print(\"Training Accuracy :\",accuracy_score(y_train,train_pred_lr))\n",
        "print(\"Testing Accuracy :\",accuracy_score(y_test,test_pred_lr))"
      ],
      "metadata": {
        "id": "86LSONKWFd4L"
      },
      "execution_count": null,
      "outputs": []
    },
    {
      "cell_type": "code",
      "source": [
        "y_pred_lr=lr.predict(X_test)"
      ],
      "metadata": {
        "id": "-mNVjzo4GBJO"
      },
      "execution_count": null,
      "outputs": []
    },
    {
      "cell_type": "code",
      "source": [
        "from sklearn import metrics\n",
        "print('MAE:',metrics.mean_absolute_error(y_test,y_pred_lr))\n",
        "print('MSE:',metrics.mean_squared_error(y_test,y_pred_lr))\n",
        "print('RMSE:',np.sqrt(metrics.mean_squared_error(y_test,y_pred_lr)))\n",
        "print('R^2 =',metrics.explained_variance_score(y_test,y_pred_lr))"
      ],
      "metadata": {
        "id": "bhZUNbFFS5Dz"
      },
      "execution_count": null,
      "outputs": []
    },
    {
      "cell_type": "code",
      "source": [
        "from sklearn. svm import SVC\n",
        "svc=SVC()\n",
        "svc.fit(X_train_sc,y_train)"
      ],
      "metadata": {
        "id": "gbBWBTZ4iqbn"
      },
      "execution_count": null,
      "outputs": []
    },
    {
      "cell_type": "code",
      "source": [
        "y_pred_svm=lr.predict(X_test)"
      ],
      "metadata": {
        "id": "W38T-oexjC6r"
      },
      "execution_count": null,
      "outputs": []
    },
    {
      "cell_type": "code",
      "source": [
        "train_pred_svc=svc.predict(X_train_sc)\n",
        "test_pred_svc=svc.predict(X_test)"
      ],
      "metadata": {
        "id": "eryuP4sCGgmh"
      },
      "execution_count": null,
      "outputs": []
    },
    {
      "cell_type": "code",
      "source": [
        "print(\"Training accuracy :\",accuracy_score(train_pred_svc,y_train))\n",
        "print(\"Testing accuracy:\",accuracy_score(test_pred_svc,y_test))"
      ],
      "metadata": {
        "id": "L9gihTLSGdIO"
      },
      "execution_count": null,
      "outputs": []
    },
    {
      "cell_type": "code",
      "source": [
        "from sklearn import metrics\n",
        "print('MAE:',metrics.mean_absolute_error(y_test,y_pred_svm))\n",
        "print('MSE:',metrics.mean_squared_error(y_test,y_pred_svm))\n",
        "print('RMSE:',np.sqrt(metrics.mean_squared_error(y_test,y_pred_svm)))\n",
        "print('R^2 =',metrics.explained_variance_score(y_test,y_pred_svm))"
      ],
      "metadata": {
        "id": "DzuurH4zSCMg"
      },
      "execution_count": null,
      "outputs": []
    },
    {
      "cell_type": "code",
      "source": [
        "from sklearn.ensemble import VotingClassifier"
      ],
      "metadata": {
        "id": "ycWUc4HjFS_n"
      },
      "execution_count": null,
      "outputs": []
    },
    {
      "cell_type": "code",
      "source": [
        "vc=VotingClassifier(estimators=[('logistic',lr),('support',svc)],voting='hard')"
      ],
      "metadata": {
        "id": "tDHcK0H5F2JC"
      },
      "execution_count": null,
      "outputs": []
    },
    {
      "cell_type": "code",
      "source": [
        "vc.fit(X_train,y_train)"
      ],
      "metadata": {
        "id": "4r1vAqSNF_Zt"
      },
      "execution_count": null,
      "outputs": []
    },
    {
      "cell_type": "code",
      "source": [
        "train_pred_vc=vc.predict(X_train_sc)\n",
        "test_pred_vc=vc.predict(X_test)\n"
      ],
      "metadata": {
        "id": "yPBikkPpGG-Q"
      },
      "execution_count": null,
      "outputs": []
    },
    {
      "cell_type": "code",
      "source": [
        "from sklearn.metrics import accuracy_score"
      ],
      "metadata": {
        "id": "sU7y8ND2Iw24"
      },
      "execution_count": null,
      "outputs": []
    },
    {
      "cell_type": "code",
      "source": [
        "print(\"Training accuracy :\",accuracy_score(train_pred_vc,y_train))\n",
        "print(\"Testing accuracy:\",accuracy_score(test_pred_vc,y_test))"
      ],
      "metadata": {
        "id": "j-pNyeB-HNqR"
      },
      "execution_count": null,
      "outputs": []
    }
  ],
  "metadata": {
    "colab": {
      "collapsed_sections": [],
      "name": "INT247.ipynb",
      "provenance": []
    },
    "kernelspec": {
      "display_name": "Python 3",
      "name": "python3"
    },
    "language_info": {
      "name": "python"
    }
  },
  "nbformat": 4,
  "nbformat_minor": 0
}